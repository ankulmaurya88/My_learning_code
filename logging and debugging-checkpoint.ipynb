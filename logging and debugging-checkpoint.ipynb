{
 "cells": [
  {
   "cell_type": "code",
   "execution_count": 1,
   "id": "9bd4148f",
   "metadata": {},
   "outputs": [
    {
     "name": "stdout",
     "output_type": "stream",
     "text": [
      "35\n"
     ]
    }
   ],
   "source": [
    "import keyword\n",
    "print(len(keyword.kwlist))"
   ]
  },
  {
   "cell_type": "code",
   "execution_count": 2,
   "id": "f2b647aa",
   "metadata": {},
   "outputs": [
    {
     "name": "stdout",
     "output_type": "stream",
     "text": [
      "['False', 'None', 'True', 'and', 'as', 'assert', 'async', 'await', 'break', 'class', 'continue', 'def', 'del', 'elif', 'else', 'except', 'finally', 'for', 'from', 'global', 'if', 'import', 'in', 'is', 'lambda', 'nonlocal', 'not', 'or', 'pass', 'raise', 'return', 'try', 'while', 'with', 'yield']\n"
     ]
    }
   ],
   "source": [
    "print(keyword.kwlist)"
   ]
  },
  {
   "cell_type": "code",
   "execution_count": 9,
   "id": "963dcb84",
   "metadata": {},
   "outputs": [
    {
     "name": "stdout",
     "output_type": "stream",
     "text": [
      "2.0\n"
     ]
    }
   ],
   "source": [
    "def add(x,y):\n",
    "    return (x+y)\n",
    "def subract(x,y):\n",
    "    return (x-y)\n",
    "def multiply(x,y):\n",
    "    return (x*y)\n",
    "def divide(x,y):\n",
    "    return (x/y)\n",
    "\n",
    "\n",
    "num_1=20\n",
    "num_2=10\n",
    "\n",
    "add_result=add(num_1,num_2)\n",
    "sub_result=subract(num_1,num_2)\n",
    "mul_result=multiply(num_1,num_2)\n",
    "div_result=divide(num_1,num_2)\n",
    "print(div_result)\n",
    "    "
   ]
  },
  {
   "cell_type": "code",
   "execution_count": 5,
   "id": "c01cd47c",
   "metadata": {},
   "outputs": [],
   "source": [
    "# logging is module which help  us to track the log infomration."
   ]
  },
  {
   "cell_type": "code",
   "execution_count": null,
   "id": "f1ca7ac9",
   "metadata": {},
   "outputs": [],
   "source": []
  },
  {
   "cell_type": "code",
   "execution_count": null,
   "id": "4a6232aa",
   "metadata": {},
   "outputs": [],
   "source": [
    "# log critical part of system documetoin about runtime status of application "
   ]
  },
  {
   "cell_type": "code",
   "execution_count": 14,
   "id": "b22395de",
   "metadata": {},
   "outputs": [],
   "source": [
    "import logging"
   ]
  },
  {
   "cell_type": "code",
   "execution_count": 18,
   "id": "5cdca773",
   "metadata": {},
   "outputs": [],
   "source": [
    "import logging\n",
    "logging.basicConfig(level=logging.DEBUG)\n",
    "\n",
    "def add(x,y):\n",
    "    return (x+y)\n",
    "def subract(x,y):\n",
    "    return (x-y)\n",
    "def multiply(x,y):\n",
    "    return (x*y)\n",
    "def divide(x,y):\n",
    "    return (x/y)\n",
    "\n",
    "\n",
    "num_1=20\n",
    "num_2=10\n",
    "\n",
    "add_result=add(num_1,num_2)\n",
    "logging.debug(add_result)\n",
    "sub_result=subract(num_1,num_2)\n",
    "logging.debug(sub_result)\n",
    "mul_result=multiply(num_1,num_2)\n",
    "logging.debug(mul_result)\n",
    "div_result=divide(num_1,num_2)\n",
    "logging.debug(div_result)\n",
    "    "
   ]
  },
  {
   "cell_type": "code",
   "execution_count": 10,
   "id": "e3484f72",
   "metadata": {},
   "outputs": [],
   "source": [
    "import logging"
   ]
  },
  {
   "cell_type": "code",
   "execution_count": null,
   "id": "79f93989",
   "metadata": {},
   "outputs": [],
   "source": []
  },
  {
   "cell_type": "code",
   "execution_count": 11,
   "id": "1dce7fb2",
   "metadata": {},
   "outputs": [],
   "source": [
    "logging.info(\"this is info\")"
   ]
  },
  {
   "cell_type": "code",
   "execution_count": 19,
   "id": "f8edd3d1",
   "metadata": {},
   "outputs": [],
   "source": [
    "import logging\n",
    "logging.basicConfig(level=logging.DEBUG)\n",
    "\n",
    "def add(x,y):\n",
    "    return (x+y)\n",
    "def subract(x,y):\n",
    "    return (x-y)\n",
    "def multiply(x,y):\n",
    "    return (x*y)\n",
    "def divide(x,y):\n",
    "    return (x/y)\n",
    "\n",
    "\n",
    "num_1=20\n",
    "num_2=10\n",
    "\n",
    "add_result=add(num_1,num_2)\n",
    "logging.debug(add_result)\n",
    "sub_result=subract(num_1,num_2)\n",
    "logging.debug(sub_result)\n",
    "mul_result=multiply(num_1,num_2)\n",
    "logging.debug(mul_result)\n",
    "div_result=divide(num_1,num_2)\n",
    "logging.debug(div_result)\n",
    "    "
   ]
  },
  {
   "cell_type": "code",
   "execution_count": 20,
   "id": "7433ad6d",
   "metadata": {},
   "outputs": [
    {
     "name": "stderr",
     "output_type": "stream",
     "text": [
      "WARNING:root:200\n",
      "CRITICAL:root:2.0\n"
     ]
    }
   ],
   "source": [
    "import logging\n",
    "logging.basicConfig(filename='test1.log',level=logging.INFO)\n",
    "\n",
    "def add(x,y):\n",
    "    return (x+y)\n",
    "def subract(x,y):\n",
    "    return (x-y)\n",
    "def multiply(x,y):\n",
    "    return (x*y)\n",
    "def divide(x,y):\n",
    "    return (x/y)\n",
    "\n",
    "\n",
    "num_1=20\n",
    "num_2=10\n",
    "\n",
    "add_result=add(num_1,num_2)\n",
    "logging.debug(add_result)\n",
    "sub_result=subract(num_1,num_2)\n",
    "logging.info(sub_result)\n",
    "mul_result=multiply(num_1,num_2)\n",
    "logging.warning(mul_result)\n",
    "div_result=divide(num_1,num_2)\n",
    "logging.critical(div_result)\n",
    "    "
   ]
  },
  {
   "cell_type": "code",
   "execution_count": null,
   "id": "b2a04d13",
   "metadata": {},
   "outputs": [],
   "source": []
  }
 ],
 "metadata": {
  "kernelspec": {
   "display_name": "Python 3 (ipykernel)",
   "language": "python",
   "name": "python3"
  },
  "language_info": {
   "codemirror_mode": {
    "name": "ipython",
    "version": 3
   },
   "file_extension": ".py",
   "mimetype": "text/x-python",
   "name": "python",
   "nbconvert_exporter": "python",
   "pygments_lexer": "ipython3",
   "version": "3.10.0"
  }
 },
 "nbformat": 4,
 "nbformat_minor": 5
}

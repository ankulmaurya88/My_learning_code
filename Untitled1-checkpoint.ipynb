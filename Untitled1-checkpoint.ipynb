{
 "cells": [
  {
   "cell_type": "markdown",
   "id": "51809bb2",
   "metadata": {},
   "source": [
    "## 4. Write a Python program to get a string from a given string where all occurrences of its first char have been changed to ( doller  )except the first char itself. \n",
    "\n",
    "\n",
    "Sample String : 'restart'\n",
    "Expected Result : 'resta$t'"
   ]
  },
  {
   "cell_type": "code",
   "execution_count": 7,
   "id": "94de678a",
   "metadata": {},
   "outputs": [
    {
     "name": "stdout",
     "output_type": "stream",
     "text": [
      "enter string:restrt\n",
      "rest7t\n"
     ]
    }
   ],
   "source": [
    "'''this is my first approch for find solution.\n",
    "string=input(\"Enter a string: \")\n",
    "f_var=string[0]\n",
    "var=string[1:]\n",
    "#print(var)\n",
    "for i in range(len(var)):\n",
    "    if var[i]==f_var:\n",
    "        var[i]=\"p\"\n",
    "        print(\"present\")\n",
    "        break\n",
    "else:\n",
    "    print(\"this letter second time not present\")'''\n",
    "def c_string(str1):\n",
    "    char=str1[0]\n",
    "    var=str1[1:]\n",
    "    s=var.replace(char,\"7\")\n",
    "    return char+s\n",
    "str1=input(\"enter string:\")\n",
    "print(c_string(str1))\n"
   ]
  },
  {
   "cell_type": "markdown",
   "id": "875e1c58",
   "metadata": {},
   "source": [
    "##  3. Write a Python program to get a string made of the first 2 and the last 2 chars from a given a string. If the string length is less than 2, return instead of the empty string. Go to the editor\n",
    "Sample String : 'w3resource'\n",
    "Expected Result : 'w3ce'\n",
    "Sample String : 'w3'\n",
    "Expected Result : 'w3w3'\n",
    "Sample String : ' w'\n",
    "Expected Result : Empty String"
   ]
  },
  {
   "cell_type": "code",
   "execution_count": null,
   "id": "3ed47052",
   "metadata": {},
   "outputs": [],
   "source": [
    "str"
   ]
  }
 ],
 "metadata": {
  "kernelspec": {
   "display_name": "Python 3 (ipykernel)",
   "language": "python",
   "name": "python3"
  },
  "language_info": {
   "codemirror_mode": {
    "name": "ipython",
    "version": 3
   },
   "file_extension": ".py",
   "mimetype": "text/x-python",
   "name": "python",
   "nbconvert_exporter": "python",
   "pygments_lexer": "ipython3",
   "version": "3.10.0"
  }
 },
 "nbformat": 4,
 "nbformat_minor": 5
}

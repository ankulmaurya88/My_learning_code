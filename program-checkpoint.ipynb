{
 "cells": [
  {
   "cell_type": "markdown",
   "id": "3e373adb",
   "metadata": {},
   "source": [
    "## 1. Write a program for the addition of Two Numbers."
   ]
  },
  {
   "cell_type": "code",
   "execution_count": 3,
   "id": "b8f6cd95",
   "metadata": {},
   "outputs": [
    {
     "name": "stdout",
     "output_type": "stream",
     "text": [
      "num1: 45\n",
      "num2: 46\n",
      "Sum of 45 and 46 is 91\n"
     ]
    }
   ],
   "source": [
    "num1=int(input(\"num1: \"))\n",
    "num2=int(input(\"num2: \"))\n",
    "sum=num1+num2\n",
    "print(\"Sum of\",num1,\"and\",num2,\"is\",sum)"
   ]
  },
  {
   "cell_type": "markdown",
   "id": "9f345075",
   "metadata": {},
   "source": [
    "## 2. Write a program to Read Two Numbers and Print Their Quotient and Remainder."
   ]
  },
  {
   "cell_type": "code",
   "execution_count": 6,
   "id": "30971955",
   "metadata": {},
   "outputs": [
    {
     "name": "stdout",
     "output_type": "stream",
     "text": [
      "num1: 345\n",
      "num2: 5\n",
      "Remainder of 345 : 0\n",
      "Quotient of 345 : 69\n"
     ]
    }
   ],
   "source": [
    "num1=int(input(\"num1: \"))\n",
    "num2=int(input(\"num2: \"))\n",
    "rem=num1%num2\n",
    "Quo=num1//num2\n",
    "print(\"Remainder of\",num1,\":\",rem)\n",
    "print(\"Quotient of\",num1,\":\",Quo)"
   ]
  },
  {
   "cell_type": "markdown",
   "id": "7836b2bd",
   "metadata": {},
   "source": [
    "## 3. Write a program to Find the Average of Three Numbers."
   ]
  },
  {
   "cell_type": "code",
   "execution_count": 9,
   "id": "8f897e62",
   "metadata": {},
   "outputs": [
    {
     "name": "stdout",
     "output_type": "stream",
     "text": [
      "num1: 5.9\n",
      "num2: 8\n",
      "num3: 7\n",
      "Average of  5.9 , 8.0 and 7.0 : 16.233333333333334\n"
     ]
    }
   ],
   "source": [
    "num1=float(input(\"num1: \"))\n",
    "num2=float(input(\"num2: \"))\n",
    "num3=float(input(\"num3: \"))\n",
    "average=num1+num2+num3/3\n",
    "print(\"Average of \",num1,\",\",num2,\"and\",num3,\":\",average)"
   ]
  },
  {
   "cell_type": "markdown",
   "id": "17450ce1",
   "metadata": {},
   "source": [
    "## 4. Write a program to Calculate Sum of 5 Subjects and Find Percentage (Max Mark in each subject is 100)."
   ]
  },
  {
   "cell_type": "code",
   "execution_count": 22,
   "id": "d00b8c29",
   "metadata": {},
   "outputs": [
    {
     "ename": "TypeError",
     "evalue": "Kernel.raw_input() takes from 1 to 2 positional arguments but 3 were given",
     "output_type": "error",
     "traceback": [
      "\u001b[1;31m---------------------------------------------------------------------------\u001b[0m",
      "\u001b[1;31mTypeError\u001b[0m                                 Traceback (most recent call last)",
      "\u001b[1;32m~\\AppData\\Local\\Temp/ipykernel_16236/2722979815.py\u001b[0m in \u001b[0;36m<module>\u001b[1;34m\u001b[0m\n\u001b[0;32m      2\u001b[0m \u001b[0mlist1\u001b[0m\u001b[1;33m=\u001b[0m\u001b[1;33m[\u001b[0m\u001b[1;33m]\u001b[0m\u001b[1;33m\u001b[0m\u001b[1;33m\u001b[0m\u001b[0m\n\u001b[0;32m      3\u001b[0m \u001b[1;32mfor\u001b[0m \u001b[0mi\u001b[0m \u001b[1;32min\u001b[0m \u001b[0mrange\u001b[0m \u001b[1;33m(\u001b[0m\u001b[1;36m1\u001b[0m\u001b[1;33m,\u001b[0m\u001b[1;36m6\u001b[0m\u001b[1;33m)\u001b[0m\u001b[1;33m:\u001b[0m\u001b[1;33m\u001b[0m\u001b[1;33m\u001b[0m\u001b[0m\n\u001b[1;32m----> 4\u001b[1;33m     \u001b[0msub_i\u001b[0m\u001b[1;33m=\u001b[0m\u001b[0mint\u001b[0m\u001b[1;33m(\u001b[0m\u001b[0minput\u001b[0m\u001b[1;33m(\u001b[0m\u001b[1;34m\"Marks of subject-\"\u001b[0m\u001b[1;33m,\u001b[0m\u001b[0mi\u001b[0m\u001b[1;33m)\u001b[0m\u001b[1;33m)\u001b[0m\u001b[1;33m\u001b[0m\u001b[1;33m\u001b[0m\u001b[0m\n\u001b[0m\u001b[0;32m      5\u001b[0m     \u001b[1;32mif\u001b[0m \u001b[0msub_1\u001b[0m\u001b[1;33m>=\u001b[0m\u001b[1;36m0\u001b[0m \u001b[1;32mand\u001b[0m \u001b[0msub_1\u001b[0m\u001b[1;33m<\u001b[0m\u001b[1;36m100\u001b[0m\u001b[1;33m:\u001b[0m\u001b[1;33m\u001b[0m\u001b[1;33m\u001b[0m\u001b[0m\n\u001b[0;32m      6\u001b[0m         \u001b[0mlist1\u001b[0m\u001b[1;33m.\u001b[0m\u001b[0mappend\u001b[0m\u001b[1;33m(\u001b[0m\u001b[0msub_1\u001b[0m\u001b[1;33m)\u001b[0m\u001b[1;33m\u001b[0m\u001b[1;33m\u001b[0m\u001b[0m\n",
      "\u001b[1;31mTypeError\u001b[0m: Kernel.raw_input() takes from 1 to 2 positional arguments but 3 were given"
     ]
    }
   ],
   "source": [
    "\n"
   ]
  },
  {
   "cell_type": "code",
   "execution_count": 27,
   "id": "c336acc6",
   "metadata": {},
   "outputs": [
    {
     "name": "stdout",
     "output_type": "stream",
     "text": [
      "50\n"
     ]
    }
   ],
   "source": [
    "x=50\n",
    "y=200\n",
    "if x > y:\n",
    "    small = y\n",
    "else:\n",
    "    small = x\n",
    "for i in range(1, small + 1):\n",
    "    if((x % i == 0) and (y % i == 0)):\n",
    "        gcd = i\n",
    "print(i)\n",
    "             \n",
    "   "
   ]
  },
  {
   "cell_type": "code",
   "execution_count": 28,
   "id": "6e773037",
   "metadata": {},
   "outputs": [
    {
     "name": "stdout",
     "output_type": "stream",
     "text": [
      "k: 5\n",
      "0\n",
      "1\n",
      "1\n",
      "2\n",
      "3\n",
      "5\n",
      "8\n",
      "13\n",
      "21\n",
      "34\n",
      "55\n",
      "89\n",
      "sum:  88\n"
     ]
    }
   ],
   "source": [
    "# Write your code here\n",
    "num=int(input(\"k: \"))\n",
    "a=0\n",
    "b=1\n",
    "sum=0\n",
    "print(a)\n",
    "print(b)\n",
    "for i in range(1,num+1):\n",
    "\ta=a+b\n",
    "\tb=a+b\n",
    "\tsum=sum+a\n",
    "\tprint(a)\n",
    "\tprint(b)\n",
    "#\tsum=sum+a\n",
    "print(\"sum: \",sum)"
   ]
  },
  {
   "cell_type": "code",
   "execution_count": 32,
   "id": "fb9e9b2b",
   "metadata": {},
   "outputs": [
    {
     "ename": "IndentationError",
     "evalue": "unindent does not match any outer indentation level (<tokenize>, line 12)",
     "output_type": "error",
     "traceback": [
      "\u001b[1;36m  File \u001b[1;32m\"<tokenize>\"\u001b[1;36m, line \u001b[1;32m12\u001b[0m\n\u001b[1;33m    print(a)\u001b[0m\n\u001b[1;37m    ^\u001b[0m\n\u001b[1;31mIndentationError\u001b[0m\u001b[1;31m:\u001b[0m unindent does not match any outer indentation level\n"
     ]
    }
   ],
   "source": [
    "# Write your code here\n",
    "num=int(input(\"k: \"))\n",
    "a=0\n",
    "b=1\n",
    "sum=0\n",
    "print(a)\n",
    "print(b)\n",
    "for i in range(1,num+1):\n",
    "\ta=a+b\n",
    "\tb=a+b\n",
    "\tsum=sum+a\n",
    "    print(a)\n",
    "    print(b)\n",
    "\tif b < num:\n",
    "\t\tbreak\n",
    "#\tsum=sum+a\n",
    "print(\"sum:\",sum)"
   ]
  },
  {
   "cell_type": "code",
   "execution_count": null,
   "id": "35522e86",
   "metadata": {},
   "outputs": [],
   "source": []
  }
 ],
 "metadata": {
  "kernelspec": {
   "display_name": "Python 3 (ipykernel)",
   "language": "python",
   "name": "python3"
  },
  "language_info": {
   "codemirror_mode": {
    "name": "ipython",
    "version": 3
   },
   "file_extension": ".py",
   "mimetype": "text/x-python",
   "name": "python",
   "nbconvert_exporter": "python",
   "pygments_lexer": "ipython3",
   "version": "3.10.0"
  }
 },
 "nbformat": 4,
 "nbformat_minor": 5
}
